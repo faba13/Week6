{
 "cells": [
  {
   "cell_type": "code",
   "execution_count": null,
   "id": "b603297f-ff17-4d04-9c3f-83d11e86f0a3",
   "metadata": {},
   "outputs": [],
   "source": [
    "import random\n",
    "from datetime import datetime\n",
    "import pandas as pd\n",
    "\n",
    "# A sample data of 40000000 observations of soil temperatures taken at 538 locations around the world\n",
    "\n",
    "random.seed(1030)\n",
    "\n",
    "indices = list(range(40000000))\n",
    "\n",
    "location = [random.randrange(1,539) for i in indices]\n",
    "location_temperature = {i:random.uniform(-10,30) for i in range(1,539)}\n",
    "temperature = [random.normalvariate(location_temperature[location[i]], 4) for i in indices]\n",
    "depth = [random.uniform(15,35) for i in indices]\n",
    "time_taken = [datetime.fromtimestamp(random.uniform(datetime(2022,6,1,0,0,0).timestamp(), \\\n",
    "    datetime(2022,7,1,0,0,0).timestamp())).isoformat() for i in indices]\n",
    "\n",
    "data = pd.DataFrame({\"location\": location, \\\n",
    "                     \"temperature\": temperature, \\\n",
    "                     \"depth\": depth, \\\n",
    "                     \"time_taken\": time_taken})\n",
    "\n",
    "data.to_csv(\"sample_data.csv\", index=False)"
   ]
  }
 ],
 "metadata": {
  "kernelspec": {
   "display_name": "",
   "name": ""
  },
  "language_info": {
   "name": ""
  }
 },
 "nbformat": 4,
 "nbformat_minor": 5
}
